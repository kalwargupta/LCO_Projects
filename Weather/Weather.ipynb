{
 "cells": [
  {
   "cell_type": "code",
   "execution_count": 1,
   "metadata": {},
   "outputs": [],
   "source": [
    "import requests as rs\n",
    "import json"
   ]
  },
  {
   "cell_type": "code",
   "execution_count": 2,
   "metadata": {},
   "outputs": [
    {
     "name": "stdout",
     "output_type": "stream",
     "text": [
      "Welcome to the weather \n",
      "1   jaipur\n",
      "2   mumbai\n",
      "3   delhi\n"
     ]
    },
    {
     "name": "stdin",
     "output_type": "stream",
     "text": [
      "enter the city number 1\n"
     ]
    },
    {
     "data": {
      "text/plain": [
       "310.15"
      ]
     },
     "execution_count": 2,
     "metadata": {},
     "output_type": "execute_result"
    }
   ],
   "source": [
    "print(\"Welcome to the weather \")\n",
    "city=[\"jaipur\",\"mumbai\",\"delhi\"]\n",
    "for i in range(len(city)):\n",
    "    print(i+1,\" \",city[i])\n",
    "city=int(input(\"enter the city number\"))\n",
    "if city==1:\n",
    "    city=\"jaipur\"\n",
    "elif city==2:\n",
    "    city=\"mumbai\"\n",
    "elif city==3:\n",
    "    city=\"delhi\"\n",
    "\n",
    "link=rs.get(\"http://api.openweathermap.org/data/2.5/weather?q=\"+city+\"&APPID=80719280b7fa73dc1af0e1b3ccec621f\").content\n",
    "link\n",
    "data=json.loads(link)\n",
    "temp=data[\"main\"][\"temp\"]\n",
    "temp"
   ]
  },
  {
   "cell_type": "code",
   "execution_count": 9,
   "metadata": {},
   "outputs": [
    {
     "name": "stdout",
     "output_type": "stream",
     "text": [
      "Welcome to the weather  app\n",
      "jaipur 37.14999999999998\n",
      "mumbai 32.64999999999998\n",
      "delhi 36.660000000000025\n",
      "ganganagar 40.72399999999999\n",
      "gopalganj 38.89999999999998\n",
      "patna 34.14999999999998\n",
      "ganganagar is hottest city having  40.72399999999999\n"
     ]
    }
   ],
   "source": [
    "print(\"Welcome to the weather  app\")\n",
    "city=[\"jaipur\",\"mumbai\",\"delhi\",\"ganganagar\",\"gopalganj\",\"patna\"]\n",
    "\n",
    "maxtemp=0\n",
    "for i in range(len(city)):\n",
    "    \n",
    "    link=rs.get(\"http://api.openweathermap.org/data/2.5/weather?q=\"+ city[i] +\"&APPID=80719280b7fa73dc1af0e1b3ccec621f\").content\n",
    "    data=json.loads(link)\n",
    "    temp=data[\"main\"][\"temp\"]\n",
    "    temp=temp-273\n",
    "#     temp=(\"%.2f\" % temp)\n",
    "    print(city[i],temp)\n",
    "    if maxtemp<temp:\n",
    "        maxtemp=temp\n",
    "        hottestcity=city[i]\n",
    "print(hottestcity + \" is hottest city having \",maxtemp)"
   ]
  },
  {
   "cell_type": "code",
   "execution_count": 31,
   "metadata": {},
   "outputs": [
    {
     "data": {
      "text/plain": [
       "str"
      ]
     },
     "execution_count": 31,
     "metadata": {},
     "output_type": "execute_result"
    }
   ],
   "source": [
    "type(temp)"
   ]
  },
  {
   "cell_type": "code",
   "execution_count": null,
   "metadata": {},
   "outputs": [],
   "source": []
  }
 ],
 "metadata": {
  "kernelspec": {
   "display_name": "Python 3",
   "language": "python",
   "name": "python3"
  },
  "language_info": {
   "codemirror_mode": {
    "name": "ipython",
    "version": 3
   },
   "file_extension": ".py",
   "mimetype": "text/x-python",
   "name": "python",
   "nbconvert_exporter": "python",
   "pygments_lexer": "ipython3",
   "version": "3.7.3"
  }
 },
 "nbformat": 4,
 "nbformat_minor": 2
}
