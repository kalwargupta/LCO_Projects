{
  "nbformat": 4,
  "nbformat_minor": 0,
  "metadata": {
    "colab": {
      "name": "DeepLearning.ipynb",
      "version": "0.3.2",
      "provenance": [],
      "collapsed_sections": []
    },
    "kernelspec": {
      "name": "python3",
      "display_name": "Python 3"
    }
  },
  "cells": [
    {
      "cell_type": "code",
      "metadata": {
        "id": "_4cUPyrJuVRR",
        "colab_type": "code",
        "colab": {}
      },
      "source": [
        "import numpy as np\n",
        "import matplotlib.pyplot as plt\n",
        "from sklearn import datasets\n",
        "import keras\n",
        "from keras.models import Sequential\n",
        "from keras.layers import Dense\n",
        "from keras.optimizers import Adam\n",
        "from keras.utils.np_utils import to_categorical\n",
        "from keras.datasets import mnist\n",
        "from keras.layers import Flatten\n",
        "from keras.layers import Dropout\n",
        "from keras.models import Model \n",
        "from keras.layers.convolutional import Conv2D\n",
        "from keras.layers.convolutional import MaxPooling2D\n",
        "import random"
      ],
      "execution_count": 0,
      "outputs": []
    },
    {
      "cell_type": "code",
      "metadata": {
        "id": "yaPHXjuOwZe2",
        "colab_type": "code",
        "colab": {}
      },
      "source": [
        "np.random.seed(0)"
      ],
      "execution_count": 0,
      "outputs": []
    },
    {
      "cell_type": "code",
      "metadata": {
        "id": "9m6kpQHdw2Af",
        "colab_type": "code",
        "colab": {}
      },
      "source": [
        "data=mnist.load_data()"
      ],
      "execution_count": 0,
      "outputs": []
    },
    {
      "cell_type": "code",
      "metadata": {
        "id": "rh2aDzDXw5vM",
        "colab_type": "code",
        "outputId": "12d568b1-516d-46ae-f68a-6981f48e7a0c",
        "colab": {
          "base_uri": "https://localhost:8080/",
          "height": 34
        }
      },
      "source": [
        "len(data[0][1])"
      ],
      "execution_count": 0,
      "outputs": [
        {
          "output_type": "execute_result",
          "data": {
            "text/plain": [
              "60000"
            ]
          },
          "metadata": {
            "tags": []
          },
          "execution_count": 111
        }
      ]
    },
    {
      "cell_type": "code",
      "metadata": {
        "id": "mTn23E3-xGtS",
        "colab_type": "code",
        "colab": {}
      },
      "source": [
        "x,y = data"
      ],
      "execution_count": 0,
      "outputs": []
    },
    {
      "cell_type": "code",
      "metadata": {
        "id": "smxsEhdYx7Gi",
        "colab_type": "code",
        "outputId": "fa2fb59f-3b07-45a5-c414-5ae5fd2d080d",
        "colab": {
          "base_uri": "https://localhost:8080/",
          "height": 34
        }
      },
      "source": [
        "len(x)"
      ],
      "execution_count": 0,
      "outputs": [
        {
          "output_type": "execute_result",
          "data": {
            "text/plain": [
              "2"
            ]
          },
          "metadata": {
            "tags": []
          },
          "execution_count": 113
        }
      ]
    },
    {
      "cell_type": "code",
      "metadata": {
        "id": "RkcVTeSPx70P",
        "colab_type": "code",
        "colab": {}
      },
      "source": [
        "(x_train,y_train),(x_test,y_test)=data"
      ],
      "execution_count": 0,
      "outputs": []
    },
    {
      "cell_type": "code",
      "metadata": {
        "id": "UkENdHReyNe3",
        "colab_type": "code",
        "outputId": "ffb65fb2-a13e-4a16-d38c-7da48e819555",
        "colab": {
          "base_uri": "https://localhost:8080/",
          "height": 34
        }
      },
      "source": [
        "print(x_train.shape)"
      ],
      "execution_count": 0,
      "outputs": [
        {
          "output_type": "stream",
          "text": [
            "(60000, 28, 28)\n"
          ],
          "name": "stdout"
        }
      ]
    },
    {
      "cell_type": "code",
      "metadata": {
        "id": "MBFyzHjDyj4x",
        "colab_type": "code",
        "colab": {}
      },
      "source": [
        "#plt.imshow(x_train[y_train==1])\n"
      ],
      "execution_count": 0,
      "outputs": []
    },
    {
      "cell_type": "code",
      "metadata": {
        "id": "S8nAuvQsyd7h",
        "colab_type": "code",
        "outputId": "c66d76f6-a6c4-4068-c15b-24bc0ecdd6ed",
        "colab": {
          "base_uri": "https://localhost:8080/",
          "height": 34
        }
      },
      "source": [
        "x_train[0].shape"
      ],
      "execution_count": 0,
      "outputs": [
        {
          "output_type": "execute_result",
          "data": {
            "text/plain": [
              "(28, 28)"
            ]
          },
          "metadata": {
            "tags": []
          },
          "execution_count": 116
        }
      ]
    },
    {
      "cell_type": "code",
      "metadata": {
        "id": "88J8CIOIytgk",
        "colab_type": "code",
        "outputId": "e0d4fb30-a127-40f6-8102-7b395ae44086",
        "colab": {
          "base_uri": "https://localhost:8080/",
          "height": 88
        }
      },
      "source": [
        "x_train[0]==(y_train==4)"
      ],
      "execution_count": 0,
      "outputs": [
        {
          "output_type": "stream",
          "text": [
            "/usr/local/lib/python3.6/dist-packages/ipykernel_launcher.py:1: DeprecationWarning: elementwise comparison failed; this will raise an error in the future.\n",
            "  \"\"\"Entry point for launching an IPython kernel.\n"
          ],
          "name": "stderr"
        },
        {
          "output_type": "execute_result",
          "data": {
            "text/plain": [
              "False"
            ]
          },
          "metadata": {
            "tags": []
          },
          "execution_count": 117
        }
      ]
    },
    {
      "cell_type": "code",
      "metadata": {
        "id": "jMzj-Sl1zT-3",
        "colab_type": "code",
        "colab": {}
      },
      "source": [
        "# for i in range(5):\n",
        "#   plt.imshow(x_train[i])\n",
        "#   plt.subplot(22)\n",
        "  "
      ],
      "execution_count": 0,
      "outputs": []
    },
    {
      "cell_type": "code",
      "metadata": {
        "id": "WMe74yGr2AIC",
        "colab_type": "code",
        "outputId": "bc15dfad-3078-4af1-e6d4-e1c1c2351ca6",
        "colab": {
          "base_uri": "https://localhost:8080/",
          "height": 286
        }
      },
      "source": [
        "plt.imshow(x_train[y_train==2][0])"
      ],
      "execution_count": 0,
      "outputs": [
        {
          "output_type": "execute_result",
          "data": {
            "text/plain": [
              "<matplotlib.image.AxesImage at 0x7fa458274978>"
            ]
          },
          "metadata": {
            "tags": []
          },
          "execution_count": 118
        },
        {
          "output_type": "display_data",
          "data": {
            "image/png": "[encoded data removed]",
            "text/plain": [
              "<Figure size 432x288 with 1 Axes>"
            ]
          },
          "metadata": {
            "tags": []
          }
        }
      ]
    },
    {
      "cell_type": "code",
      "metadata": {
        "id": "xK1QLW6t5mW1",
        "colab_type": "code",
        "outputId": "e1f21d86-ade7-431a-c430-fc45040c5c61",
        "colab": {
          "base_uri": "https://localhost:8080/",
          "height": 735
        }
      },
      "source": [
        "num_of_sample=[]\n",
        "num_classes=10\n",
        "fig,ax=plt.subplots(nrows=num_classes, ncols=5, figsize=(5,10))\n",
        "fig.tight_layout()\n",
        "for i in range(num_classes):\n",
        "  for j in range(5):\n",
        "    number=x_train[y_train==i]\n",
        "    ax[i][j].imshow(number[j],cmap='gray')\n",
        "    ax[i][j].axis('off')\n",
        "    if j==2:\n",
        "      ax[i][j].set_title(str(i))\n",
        "      num_of_sample.append(len(number))"
      ],
      "execution_count": 0,
      "outputs": [
        {
          "output_type": "display_data",
          "data": {
            "image/png": "[encoded data removed]",
            "text/plain": [
              "<Figure size 360x720 with 50 Axes>"
            ]
          },
          "metadata": {
            "tags": []
          }
        }
      ]
    },
    {
      "cell_type": "code",
      "metadata": {
        "id": "kqeyZ9AB6U-B",
        "colab_type": "code",
        "outputId": "46b05c52-2661-4333-facf-0489f67ab22e",
        "colab": {
          "base_uri": "https://localhost:8080/",
          "height": 34
        }
      },
      "source": [
        "num_of_sample"
      ],
      "execution_count": 0,
      "outputs": [
        {
          "output_type": "execute_result",
          "data": {
            "text/plain": [
              "[5923, 6742, 5958, 6131, 5842, 5421, 5918, 6265, 5851, 5949]"
            ]
          },
          "metadata": {
            "tags": []
          },
          "execution_count": 120
        }
      ]
    },
    {
      "cell_type": "code",
      "metadata": {
        "id": "X1wOrLhN9V4r",
        "colab_type": "code",
        "colab": {}
      },
      "source": [
        "numbers=[0,1,2,3,4,5,6,7,8,9]"
      ],
      "execution_count": 0,
      "outputs": []
    },
    {
      "cell_type": "code",
      "metadata": {
        "id": "dzxR3O5H-2sV",
        "colab_type": "code",
        "outputId": "a81ead17-dbb9-4796-fdd0-f3202ff292cb",
        "colab": {
          "base_uri": "https://localhost:8080/",
          "height": 456
        }
      },
      "source": [
        "plt.figure(figsize=(12,4))\n",
        "plt.bar(range(10),num_of_sample)\n",
        "plt.xticks(numbers)"
      ],
      "execution_count": 0,
      "outputs": [
        {
          "output_type": "execute_result",
          "data": {
            "text/plain": [
              "([<matplotlib.axis.XTick at 0x7fa458290cc0>,\n",
              "  <matplotlib.axis.XTick at 0x7fa4582c3e10>,\n",
              "  <matplotlib.axis.XTick at 0x7fa467c7a588>,\n",
              "  <matplotlib.axis.XTick at 0x7fa467a691d0>,\n",
              "  <matplotlib.axis.XTick at 0x7fa467a69630>,\n",
              "  <matplotlib.axis.XTick at 0x7fa467a69b00>,\n",
              "  <matplotlib.axis.XTick at 0x7fa467a69d30>,\n",
              "  <matplotlib.axis.XTick at 0x7fa467a692b0>,\n",
              "  <matplotlib.axis.XTick at 0x7fa46796a5c0>,\n",
              "  <matplotlib.axis.XTick at 0x7fa46796aa90>],\n",
              " <a list of 10 Text xticklabel objects>)"
            ]
          },
          "metadata": {
            "tags": []
          },
          "execution_count": 122
        },
        {
          "output_type": "display_data",
          "data": {
            "image/png": "[encoded data removed]",
            "text/plain": [
              "<Figure size 864x288 with 1 Axes>"
            ]
          },
          "metadata": {
            "tags": []
          }
        }
      ]
    },
    {
      "cell_type": "code",
      "metadata": {
        "id": "itfhOB9KNBDu",
        "colab_type": "code",
        "colab": {}
      },
      "source": [
        "x_train=x_train.reshape(-1,28,28,1)\n",
        "#x_test=x_test.reshape(-1,28,28,1)"
      ],
      "execution_count": 0,
      "outputs": []
    },
    {
      "cell_type": "code",
      "metadata": {
        "id": "YaLuIktdNkjz",
        "colab_type": "code",
        "colab": {}
      },
      "source": [
        "y_train=to_categorical(y_train,10)\n",
        "#y_test=to_categorical(y_test,10)"
      ],
      "execution_count": 0,
      "outputs": []
    },
    {
      "cell_type": "code",
      "metadata": {
        "id": "ZI73RvDINlk3",
        "colab_type": "code",
        "outputId": "edd87d4a-82c0-43aa-b399-e733e07f9d00",
        "colab": {
          "base_uri": "https://localhost:8080/",
          "height": 34
        }
      },
      "source": [
        "y_train[0]"
      ],
      "execution_count": 0,
      "outputs": [
        {
          "output_type": "execute_result",
          "data": {
            "text/plain": [
              "array([0., 0., 0., 0., 0., 1., 0., 0., 0., 0.], dtype=float32)"
            ]
          },
          "metadata": {
            "tags": []
          },
          "execution_count": 125
        }
      ]
    },
    {
      "cell_type": "code",
      "metadata": {
        "id": "ffDZAMpnOpdk",
        "colab_type": "code",
        "colab": {}
      },
      "source": [
        "x_train=x_train/255\n",
        "x_test=x_test/255"
      ],
      "execution_count": 0,
      "outputs": []
    },
    {
      "cell_type": "code",
      "metadata": {
        "id": "xxJjmuANShcx",
        "colab_type": "code",
        "outputId": "27cdb872-4f14-425f-89f0-f289796ad5d5",
        "colab": {
          "base_uri": "https://localhost:8080/",
          "height": 34
        }
      },
      "source": [
        "y_train.shape\n"
      ],
      "execution_count": 0,
      "outputs": [
        {
          "output_type": "execute_result",
          "data": {
            "text/plain": [
              "(60000, 10)"
            ]
          },
          "metadata": {
            "tags": []
          },
          "execution_count": 127
        }
      ]
    },
    {
      "cell_type": "code",
      "metadata": {
        "id": "XdbRnqd9_lck",
        "colab_type": "code",
        "colab": {}
      },
      "source": [
        "def le_net():\n",
        "    model=Sequential()\n",
        "    model.add(Conv2D(30,(5,5),input_shape = (28,28,1), activation ='relu'))\n",
        "    model.add(MaxPooling2D(pool_size=(2,2)))\n",
        "    model.add(Conv2D(15,(3,3),activation='relu'))\n",
        "    model.add(MaxPooling2D(pool_size=(2,2)))\n",
        "    model.add(Flatten())\n",
        "    model.add(Dense(500,activation='relu'))\n",
        "    model.add(Dropout(0.5))\n",
        "    model.add(Dropout(0.5))\n",
        "    model.add(Dense(num_classes, activation='softmax'))\n",
        "    model.compile(Adam(lr=0.001),loss='categorical_crossentropy', metrics=['accuracy'])\n",
        "    return model"
      ],
      "execution_count": 0,
      "outputs": []
    },
    {
      "cell_type": "code",
      "metadata": {
        "id": "nLaeSWxPGLUI",
        "colab_type": "code",
        "outputId": "e172dac9-c2be-47ff-a205-91964e3d3a37",
        "colab": {
          "base_uri": "https://localhost:8080/",
          "height": 442
        }
      },
      "source": [
        "lenet=le_net()\n",
        "lenet.summary()"
      ],
      "execution_count": 0,
      "outputs": [
        {
          "output_type": "stream",
          "text": [
            "_________________________________________________________________\n",
            "Layer (type)                 Output Shape              Param #   \n",
            "=================================================================\n",
            "conv2d_5 (Conv2D)            (None, 24, 24, 30)        780       \n",
            "_________________________________________________________________\n",
            "max_pooling2d_5 (MaxPooling2 (None, 12, 12, 30)        0         \n",
            "_________________________________________________________________\n",
            "conv2d_6 (Conv2D)            (None, 10, 10, 15)        4065      \n",
            "_________________________________________________________________\n",
            "max_pooling2d_6 (MaxPooling2 (None, 5, 5, 15)          0         \n",
            "_________________________________________________________________\n",
            "flatten_3 (Flatten)          (None, 375)               0         \n",
            "_________________________________________________________________\n",
            "dense_5 (Dense)              (None, 500)               188000    \n",
            "_________________________________________________________________\n",
            "dropout_5 (Dropout)          (None, 500)               0         \n",
            "_________________________________________________________________\n",
            "dropout_6 (Dropout)          (None, 500)               0         \n",
            "_________________________________________________________________\n",
            "dense_6 (Dense)              (None, 10)                5010      \n",
            "=================================================================\n",
            "Total params: 197,855\n",
            "Trainable params: 197,855\n",
            "Non-trainable params: 0\n",
            "_________________________________________________________________\n"
          ],
          "name": "stdout"
        }
      ]
    },
    {
      "cell_type": "code",
      "metadata": {
        "id": "41kylA4HGUuF",
        "colab_type": "code",
        "outputId": "baea2d3f-3a9d-4a2e-d275-86fb013f1202",
        "colab": {
          "base_uri": "https://localhost:8080/",
          "height": 394
        }
      },
      "source": [
        "history=lenet.fit(x_train,\n",
        "                  y_train,\n",
        "                  epochs=10,\n",
        "                  validation_split=0.1,\n",
        "                  batch_size=400,\n",
        "                  verbose=1,shuffle=1)"
      ],
      "execution_count": 0,
      "outputs": [
        {
          "output_type": "stream",
          "text": [
            "Train on 54000 samples, validate on 6000 samples\n",
            "Epoch 1/10\n",
            "54000/54000 [==============================] - 53s 976us/step - loss: 0.5799 - acc: 0.8173 - val_loss: 0.0979 - val_acc: 0.9713\n",
            "Epoch 2/10\n",
            "54000/54000 [==============================] - 53s 985us/step - loss: 0.1446 - acc: 0.9569 - val_loss: 0.0638 - val_acc: 0.9818\n",
            "Epoch 3/10\n",
            "54000/54000 [==============================] - 53s 986us/step - loss: 0.1033 - acc: 0.9689 - val_loss: 0.0493 - val_acc: 0.9855\n",
            "Epoch 4/10\n",
            "54000/54000 [==============================] - 53s 988us/step - loss: 0.0847 - acc: 0.9742 - val_loss: 0.0417 - val_acc: 0.9877\n",
            "Epoch 5/10\n",
            "54000/54000 [==============================] - 53s 982us/step - loss: 0.0734 - acc: 0.9777 - val_loss: 0.0414 - val_acc: 0.9883\n",
            "Epoch 6/10\n",
            "54000/54000 [==============================] - 53s 988us/step - loss: 0.0655 - acc: 0.9805 - val_loss: 0.0403 - val_acc: 0.9885\n",
            "Epoch 7/10\n",
            "54000/54000 [==============================] - 53s 981us/step - loss: 0.0605 - acc: 0.9818 - val_loss: 0.0371 - val_acc: 0.9895\n",
            "Epoch 8/10\n",
            "54000/54000 [==============================] - 53s 983us/step - loss: 0.0569 - acc: 0.9825 - val_loss: 0.0332 - val_acc: 0.9910\n",
            "Epoch 9/10\n",
            "54000/54000 [==============================] - 53s 985us/step - loss: 0.0490 - acc: 0.9855 - val_loss: 0.0314 - val_acc: 0.9910\n",
            "Epoch 10/10\n",
            "54000/54000 [==============================] - 53s 985us/step - loss: 0.0476 - acc: 0.9851 - val_loss: 0.0336 - val_acc: 0.9902\n"
          ],
          "name": "stdout"
        }
      ]
    },
    {
      "cell_type": "code",
      "metadata": {
        "id": "oB0SFC1wRiX1",
        "colab_type": "code",
        "outputId": "55d5d3cd-34e8-4b6f-c809-1aa594ee8210",
        "colab": {
          "base_uri": "https://localhost:8080/",
          "height": 312
        }
      },
      "source": [
        "plt.plot(history.history['loss'])\n",
        "plt.plot(history.history['val_loss'])\n",
        "plt.legend(['loss','val_loss'])\n",
        "plt.title('Loss')\n",
        "plt.xticks(range(10))\n",
        "plt.xlabel('Epochs')\n"
      ],
      "execution_count": 0,
      "outputs": [
        {
          "output_type": "execute_result",
          "data": {
            "text/plain": [
              "Text(0.5, 0, 'Epochs')"
            ]
          },
          "metadata": {
            "tags": []
          },
          "execution_count": 131
        },
        {
          "output_type": "display_data",
          "data": {
            "image/png": "[encoded data removed]",
            "text/plain": [
              "<Figure size 432x288 with 1 Axes>"
            ]
          },
          "metadata": {
            "tags": []
          }
        }
      ]
    },
    {
      "cell_type": "code",
      "metadata": {
        "id": "4s0HdpttXpop",
        "colab_type": "code",
        "outputId": "3da7d831-faae-4a43-8117-fafa44293490",
        "colab": {
          "base_uri": "https://localhost:8080/",
          "height": 312
        }
      },
      "source": [
        "plt.plot(history.history['acc'])\n",
        "plt.plot(history.history['val_acc'])\n",
        "plt.legend(['acc','val_acc'])\n",
        "plt.title('Accuracy')\n",
        "plt.xticks(range(10))\n",
        "plt.xlabel('Epochs')"
      ],
      "execution_count": 0,
      "outputs": [
        {
          "output_type": "execute_result",
          "data": {
            "text/plain": [
              "Text(0.5, 0, 'Epochs')"
            ]
          },
          "metadata": {
            "tags": []
          },
          "execution_count": 132
        },
        {
          "output_type": "display_data",
          "data": {
            "image/png": "[encoded data removed]",
            "text/plain": [
              "<Figure size 432x288 with 1 Axes>"
            ]
          },
          "metadata": {
            "tags": []
          }
        }
      ]
    },
    {
      "cell_type": "code",
      "metadata": {
        "id": "v8OHpfewaQS5",
        "colab_type": "code",
        "colab": {}
      },
      "source": [
        "\n"
      ],
      "execution_count": 0,
      "outputs": []
    },
    {
      "cell_type": "code",
      "metadata": {
        "id": "IqDJ8fJjY7vq",
        "colab_type": "code",
        "colab": {}
      },
      "source": [
        ""
      ],
      "execution_count": 0,
      "outputs": []
    },
    {
      "cell_type": "code",
      "metadata": {
        "id": "5GEfj10_aoMM",
        "colab_type": "code",
        "outputId": "507a7769-0a8e-4c09-b127-1e1e9f560dac",
        "colab": {
          "base_uri": "https://localhost:8080/",
          "height": 187
        }
      },
      "source": [
        "history.history['acc']"
      ],
      "execution_count": 0,
      "outputs": [
        {
          "output_type": "execute_result",
          "data": {
            "text/plain": [
              "[0.9149444386363029,\n",
              " 0.9699444470582185,\n",
              " 0.9742037137349446,\n",
              " 0.9778889015868858,\n",
              " 0.9793333490689595,\n",
              " 0.9812592713921159,\n",
              " 0.9797407556463171,\n",
              " 0.9814259418734798,\n",
              " 0.9811111269173799,\n",
              " 0.9811296458597536]"
            ]
          },
          "metadata": {
            "tags": []
          },
          "execution_count": 83
        }
      ]
    },
    {
      "cell_type": "code",
      "metadata": {
        "id": "FmayL6WVatG-",
        "colab_type": "code",
        "outputId": "839a1862-a790-43a6-824e-16dfd6d7c5a9",
        "colab": {
          "base_uri": "https://localhost:8080/",
          "height": 187
        }
      },
      "source": [
        "history.history['val_acc']"
      ],
      "execution_count": 0,
      "outputs": [
        {
          "output_type": "execute_result",
          "data": {
            "text/plain": [
              "[0.9855000138282776,\n",
              " 0.987333345413208,\n",
              " 0.9893333435058593,\n",
              " 0.9876666784286499,\n",
              " 0.9901666760444641,\n",
              " 0.9861666798591614,\n",
              " 0.9883333444595337,\n",
              " 0.9920000076293946,\n",
              " 0.9878333449363709,\n",
              " 0.9913333415985107]"
            ]
          },
          "metadata": {
            "tags": []
          },
          "execution_count": 40
        }
      ]
    },
    {
      "cell_type": "code",
      "metadata": {
        "id": "x16MP8Vra33s",
        "colab_type": "code",
        "outputId": "7142b8ad-b223-41e8-dc5e-a0246ba44a28",
        "colab": {
          "base_uri": "https://localhost:8080/",
          "height": 34
        }
      },
      "source": [
        "y_test.shape"
      ],
      "execution_count": 0,
      "outputs": [
        {
          "output_type": "execute_result",
          "data": {
            "text/plain": [
              "(10000,)"
            ]
          },
          "metadata": {
            "tags": []
          },
          "execution_count": 133
        }
      ]
    },
    {
      "cell_type": "code",
      "metadata": {
        "id": "NvVzq75D2mmf",
        "colab_type": "code",
        "colab": {}
      },
      "source": [
        "import cv2 as cv\n",
        "from PIL import Image\n",
        "import requests as r\n",
        "url=\"https://johnloeber.com/images/kmeans-mnist/nines/0.png\"\n"
      ],
      "execution_count": 0,
      "outputs": []
    },
    {
      "cell_type": "code",
      "metadata": {
        "id": "Dcp8Bszg2-Ib",
        "colab_type": "code",
        "colab": {}
      },
      "source": [
        "img=r.get(url,stream=True)\n",
        "img=Image.open(img.raw).convert('L')"
      ],
      "execution_count": 0,
      "outputs": []
    },
    {
      "cell_type": "code",
      "metadata": {
        "id": "NYyzr1Fs3XU4",
        "colab_type": "code",
        "outputId": "fc6288b0-f35e-43b2-ac6c-3a51bfb72059",
        "colab": {
          "base_uri": "https://localhost:8080/",
          "height": 286
        }
      },
      "source": [
        "plt.imshow(img, cmap='gray')"
      ],
      "execution_count": 0,
      "outputs": [
        {
          "output_type": "execute_result",
          "data": {
            "text/plain": [
              "<matplotlib.image.AxesImage at 0x7fa457b23048>"
            ]
          },
          "metadata": {
            "tags": []
          },
          "execution_count": 146
        },
        {
          "output_type": "display_data",
          "data": {
            "image/png": "[encoded data removed]",
            "text/plain": [
              "<Figure size 432x288 with 1 Axes>"
            ]
          },
          "metadata": {
            "tags": []
          }
        }
      ]
    },
    {
      "cell_type": "code",
      "metadata": {
        "id": "1om0BxoK3n7m",
        "colab_type": "code",
        "colab": {}
      },
      "source": [
        "img=np.array(img)"
      ],
      "execution_count": 0,
      "outputs": []
    },
    {
      "cell_type": "code",
      "metadata": {
        "id": "eHxJ3Uru5pFI",
        "colab_type": "code",
        "outputId": "db2d30d1-65cc-4b73-b37d-5df11e804446",
        "colab": {
          "base_uri": "https://localhost:8080/",
          "height": 34
        }
      },
      "source": [
        "img.shape"
      ],
      "execution_count": 0,
      "outputs": [
        {
          "output_type": "execute_result",
          "data": {
            "text/plain": [
              "(237, 237)"
            ]
          },
          "metadata": {
            "tags": []
          },
          "execution_count": 148
        }
      ]
    },
    {
      "cell_type": "code",
      "metadata": {
        "id": "O4kpyPa056XW",
        "colab_type": "code",
        "colab": {}
      },
      "source": [
        "img=cv.resize(img,(28,28))"
      ],
      "execution_count": 0,
      "outputs": []
    },
    {
      "cell_type": "code",
      "metadata": {
        "id": "mUxvMHg06CMm",
        "colab_type": "code",
        "colab": {}
      },
      "source": [
        "img=img/255"
      ],
      "execution_count": 0,
      "outputs": []
    },
    {
      "cell_type": "code",
      "metadata": {
        "id": "bOxQHhu76aRd",
        "colab_type": "code",
        "colab": {}
      },
      "source": [
        "img=img.reshape(1,28,28,1)"
      ],
      "execution_count": 0,
      "outputs": []
    },
    {
      "cell_type": "code",
      "metadata": {
        "id": "Jz4d_jG07Go4",
        "colab_type": "code",
        "outputId": "0996ae0f-e671-4a7a-f4ca-4c19ebe24b03",
        "colab": {
          "base_uri": "https://localhost:8080/",
          "height": 34
        }
      },
      "source": [
        "img.shape"
      ],
      "execution_count": 0,
      "outputs": [
        {
          "output_type": "execute_result",
          "data": {
            "text/plain": [
              "(1, 28, 28, 1)"
            ]
          },
          "metadata": {
            "tags": []
          },
          "execution_count": 152
        }
      ]
    },
    {
      "cell_type": "code",
      "metadata": {
        "id": "1imFXW--7HtS",
        "colab_type": "code",
        "outputId": "652b5b3a-d891-4000-87d8-2322d78e1ea1",
        "colab": {
          "base_uri": "https://localhost:8080/",
          "height": 34
        }
      },
      "source": [
        "lenet.predict_classes(img)"
      ],
      "execution_count": 0,
      "outputs": [
        {
          "output_type": "execute_result",
          "data": {
            "text/plain": [
              "array([9])"
            ]
          },
          "metadata": {
            "tags": []
          },
          "execution_count": 153
        }
      ]
    },
    {
      "cell_type": "code",
      "metadata": {
        "id": "wW6idL217WQ-",
        "colab_type": "code",
        "colab": {}
      },
      "source": [
        ""
      ],
      "execution_count": 0,
      "outputs": []
    }
  ]
}