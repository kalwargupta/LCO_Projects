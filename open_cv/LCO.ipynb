{
 "cells": [
  {
   "cell_type": "code",
   "execution_count": 1,
   "metadata": {},
   "outputs": [],
   "source": [
    "import numpy as np \n",
    "import cv2 as cv\n",
    "from pyzbar.pyzbar import decode\n",
    "from PIL import Image\n",
    "import io\n",
    "import requests\n",
    "import matplotlib.pyplot as plt"
   ]
  },
  {
   "cell_type": "markdown",
   "metadata": {},
   "source": [
    "## Face Detection"
   ]
  },
  {
   "cell_type": "code",
   "execution_count": 5,
   "metadata": {},
   "outputs": [],
   "source": [
    "def facedetect():\n",
    "\n",
    "    # taking camera resourcse from the system\n",
    "    cam=cv.VideoCapture(0)\n",
    "    detector=cv.CascadeClassifier(\"/Users/jeetu/Desktop/LCO/Day11/haarcascade_frontalface_default.xml\")\n",
    "\n",
    "    while True:\n",
    "        # Reading the frames\n",
    "        _, frame=cam.read()\n",
    "        frame=cv.resize(frame,None, fx=0.6,fy=0.6,interpolation=cv.INTER_LINEAR)\n",
    "        gray=cv.cvtColor(frame,cv.COLOR_BGR2GRAY)\n",
    "\n",
    "        faces=detector.detectMultiScale(gray,1.3,5)\n",
    "        for face in faces:\n",
    "            x,y,h,w=face\n",
    "            cv.rectangle(frame, (x,y), (x+w,y+h), (255,255,255), 2)\n",
    "            cv.imshow(\"webcam\",frame)\n",
    "\n",
    "\n",
    "        if cv.waitKey(33) == ord('q'):\n",
    "            cv.destroyAllWindows()\n",
    "            break\n",
    "\n",
    "    cam.release()\n",
    "    cv.destroyAllWindows()"
   ]
  },
  {
   "cell_type": "markdown",
   "metadata": {},
   "source": [
    "## car Detection"
   ]
  },
  {
   "cell_type": "code",
   "execution_count": 1,
   "metadata": {},
   "outputs": [],
   "source": [
    "def carDetect():\n",
    "    cam=cv.VideoCapture(\"/Users/jeetu/Desktop/LCO/Day11/carDect/video2.avi\")\n",
    "    detector=cv.CascadeClassifier(\"/Users/jeetu/Desktop/LCO/Day11/carDect/cars.xml\")\n",
    "    while True:\n",
    "        _,frame = cam.read()\n",
    "        if (type(frame) == type(None)):\n",
    "            break\n",
    "        img_rgb=cv.cvtColor(frame,cv.COLOR_BGR2RGB)\n",
    "        img_gray=cv.cvtColor(frame,cv.COLOR_BGR2GRAY)\n",
    "        faces=detector.detectMultiScale(img_gray,1.1,1)\n",
    "        for face in faces:\n",
    "            x,y,w,h=face\n",
    "            cv.rectangle(img_rgb,(x,y),(x+w,y+h),(255,255,255),2)\n",
    "            cv.imshow(\"cars\",img_rgb)\n",
    "            \n",
    "\n",
    "        if cv.waitKey(33) == ord('q'):\n",
    "            break\n",
    "    cam.release()\n",
    "    cv.destroyAllWindows()"
   ]
  },
  {
   "cell_type": "markdown",
   "metadata": {},
   "source": [
    "## QR Code Detection"
   ]
  },
  {
   "cell_type": "code",
   "execution_count": 2,
   "metadata": {},
   "outputs": [],
   "source": [
    "def qrcode():\n",
    "    cam=cv.VideoCapture(0)\n",
    "    while True:\n",
    "        _,frame=cam.read()\n",
    "        frame_gray=cv.cvtColor(frame,cv.COLOR_BGR2GRAY)\n",
    "        frame_rgb=cv.cvtColor(frame,cv.COLOR_BGR2RGB)\n",
    "        imgs=decode(Image.fromarray(frame_gray))\n",
    "\n",
    "        for i in imgs:\n",
    "            x,y,w,h=i.rect\n",
    "            cv.rectangle(frame,(x,y),(x+w,y+h),(200,0,0),2)\n",
    "            tx,ty=cv.getTextSize(str(i.data.decode(\"utf-8\")),cv.FONT_HERSHEY_COMPLEX,fontScale=1.3, thickness=1)[0]\n",
    "            cv.rectangle(frame,(x,y-ty),(x+tx,y+10),(255,53,75),-1)\n",
    "            cv.putText(frame,str(i.data.decode(\"utf-8\")),(x,y),cv.FONT_HERSHEY_COMPLEX,0.7,(255,255,255),1,cv.LINE_AA)\n",
    "        cv.imshow(\"qrcode\",frame)\n",
    "        if cv.waitKey(33) == ord('q'):\n",
    "            break\n",
    "\n",
    "    cam.release()\n",
    "    cv.destroyAllWindows()"
   ]
  },
  {
   "cell_type": "code",
   "execution_count": 3,
   "metadata": {},
   "outputs": [
    {
     "name": "stdout",
     "output_type": "stream",
     "text": [
      "Welcome to the Learn Code Online \n"
     ]
    },
    {
     "name": "stdin",
     "output_type": "stream",
     "text": [
      "\n",
      "Choose 1 for Face Detection\n",
      "Choose 2 for Car Detection\n",
      "Choose 3 for QR Code Detection\n",
      " 3\n"
     ]
    }
   ],
   "source": [
    "print(\"Welcome to the Learn Code Online \")\n",
    "a='''\n",
    "Choose 1 for Face Detection\n",
    "Choose 2 for Car Detection\n",
    "Choose 3 for QR Code Detection\n",
    "'''\n",
    "user=int(input(a))\n",
    "if user==1:\n",
    "    facedetect()\n",
    "elif user==2:\n",
    "    carDetect()\n",
    "elif user==3:\n",
    "    qrcode()\n",
    "    "
   ]
  },
  {
   "cell_type": "code",
   "execution_count": 9,
   "metadata": {},
   "outputs": [
    {
     "ename": "NameError",
     "evalue": "name 'cam' is not defined",
     "output_type": "error",
     "traceback": [
      "\u001b[0;31m---------------------------------------------------------------------------\u001b[0m",
      "\u001b[0;31mNameError\u001b[0m                                 Traceback (most recent call last)",
      "\u001b[0;32m<ipython-input-9-956091a0a570>\u001b[0m in \u001b[0;36m<module>\u001b[0;34m\u001b[0m\n\u001b[0;32m----> 1\u001b[0;31m \u001b[0mcam\u001b[0m\u001b[0;34m.\u001b[0m\u001b[0mrelease\u001b[0m\u001b[0;34m(\u001b[0m\u001b[0;34m)\u001b[0m\u001b[0;34m\u001b[0m\u001b[0;34m\u001b[0m\u001b[0m\n\u001b[0m",
      "\u001b[0;31mNameError\u001b[0m: name 'cam' is not defined"
     ]
    }
   ],
   "source": []
  },
  {
   "cell_type": "code",
   "execution_count": null,
   "metadata": {},
   "outputs": [],
   "source": []
  }
 ],
 "metadata": {
  "kernelspec": {
   "display_name": "Python 3",
   "language": "python",
   "name": "python3"
  },
  "language_info": {
   "codemirror_mode": {
    "name": "ipython",
    "version": 3
   },
   "file_extension": ".py",
   "mimetype": "text/x-python",
   "name": "python",
   "nbconvert_exporter": "python",
   "pygments_lexer": "ipython3",
   "version": "3.7.3"
  }
 },
 "nbformat": 4,
 "nbformat_minor": 2
}
