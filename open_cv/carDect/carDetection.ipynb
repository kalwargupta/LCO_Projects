{
 "cells": [
  {
   "cell_type": "code",
   "execution_count": 1,
   "metadata": {},
   "outputs": [],
   "source": [
    "import numpy as np\n",
    "import cv2 as cv\n"
   ]
  },
  {
   "cell_type": "code",
   "execution_count": 2,
   "metadata": {},
   "outputs": [],
   "source": [
    "cam=cv.VideoCapture(\"video2.avi\")\n",
    "detector=cv.CascadeClassifier(\"cars.xml\")\n",
    "while True:\n",
    "    _,frame = cam.read()\n",
    "    if (type(frame) == type(None)):\n",
    "        break\n",
    "    img_rgb=cv.cvtColor(frame,cv.COLOR_BGR2RGB)\n",
    "    img_gray=cv.cvtColor(frame,cv.COLOR_BGR2GRAY)\n",
    "    faces=detector.detectMultiScale(img_gray,1.1,1)\n",
    "    for face in faces:\n",
    "        x,y,w,h=face\n",
    "        cv.rectangle(img_rgb,(x,y),(x+w,y+h),(255,255,255),2)\n",
    "        cv.imshow(\"cars\",img_rgb)\n",
    "    \n",
    "    if cv.waitKey(33) == ord('q'):\n",
    "        break\n",
    "cam.release()\n",
    "cv.destroyAllWindows()"
   ]
  },
  {
   "cell_type": "code",
   "execution_count": null,
   "metadata": {},
   "outputs": [],
   "source": [
    "cam.release()"
   ]
  },
  {
   "cell_type": "code",
   "execution_count": null,
   "metadata": {},
   "outputs": [],
   "source": []
  }
 ],
 "metadata": {
  "kernelspec": {
   "display_name": "Python 3",
   "language": "python",
   "name": "python3"
  },
  "language_info": {
   "codemirror_mode": {
    "name": "ipython",
    "version": 3
   },
   "file_extension": ".py",
   "mimetype": "text/x-python",
   "name": "python",
   "nbconvert_exporter": "python",
   "pygments_lexer": "ipython3",
   "version": "3.7.3"
  }
 },
 "nbformat": 4,
 "nbformat_minor": 2
}
