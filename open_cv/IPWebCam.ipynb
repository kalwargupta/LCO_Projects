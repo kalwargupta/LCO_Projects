{
 "cells": [
  {
   "cell_type": "code",
   "execution_count": 1,
   "metadata": {},
   "outputs": [
    {
     "ename": "error",
     "evalue": "OpenCV(4.1.0) /Users/travis/build/skvark/opencv-python/opencv/modules/imgproc/src/color.cpp:182: error: (-215:Assertion failed) !_src.empty() in function 'cvtColor'\n",
     "output_type": "error",
     "traceback": [
      "\u001b[0;31m---------------------------------------------------------------------------\u001b[0m",
      "\u001b[0;31merror\u001b[0m                                     Traceback (most recent call last)",
      "\u001b[0;32m<ipython-input-1-d469bd2cd98a>\u001b[0m in \u001b[0;36m<module>\u001b[0;34m\u001b[0m\n\u001b[1;32m     15\u001b[0m     \u001b[0m_\u001b[0m\u001b[0;34m,\u001b[0m \u001b[0mframe\u001b[0m\u001b[0;34m=\u001b[0m\u001b[0mcam\u001b[0m\u001b[0;34m.\u001b[0m\u001b[0mread\u001b[0m\u001b[0;34m(\u001b[0m\u001b[0;34m)\u001b[0m\u001b[0;34m\u001b[0m\u001b[0;34m\u001b[0m\u001b[0m\n\u001b[1;32m     16\u001b[0m \u001b[0;31m#     frame=cv.resize(frame,None, fx=0.6,fy=0.6,interpolation=cv.INTER_LINEAR)\u001b[0m\u001b[0;34m\u001b[0m\u001b[0;34m\u001b[0m\u001b[0;34m\u001b[0m\u001b[0m\n\u001b[0;32m---> 17\u001b[0;31m     \u001b[0mframe_rgb\u001b[0m\u001b[0;34m=\u001b[0m\u001b[0mcv\u001b[0m\u001b[0;34m.\u001b[0m\u001b[0mcvtColor\u001b[0m\u001b[0;34m(\u001b[0m\u001b[0mframe\u001b[0m\u001b[0;34m,\u001b[0m\u001b[0mcv\u001b[0m\u001b[0;34m.\u001b[0m\u001b[0mCOLOR_BGR2RGB\u001b[0m\u001b[0;34m)\u001b[0m\u001b[0;34m\u001b[0m\u001b[0;34m\u001b[0m\u001b[0m\n\u001b[0m\u001b[1;32m     18\u001b[0m     \u001b[0mgray\u001b[0m\u001b[0;34m=\u001b[0m\u001b[0mcv\u001b[0m\u001b[0;34m.\u001b[0m\u001b[0mcvtColor\u001b[0m\u001b[0;34m(\u001b[0m\u001b[0mframe\u001b[0m\u001b[0;34m,\u001b[0m\u001b[0mcv\u001b[0m\u001b[0;34m.\u001b[0m\u001b[0mCOLOR_BGR2GRAY\u001b[0m\u001b[0;34m)\u001b[0m\u001b[0;34m\u001b[0m\u001b[0;34m\u001b[0m\u001b[0m\n\u001b[1;32m     19\u001b[0m     \u001b[0mfaces\u001b[0m\u001b[0;34m=\u001b[0m\u001b[0mdetector\u001b[0m\u001b[0;34m.\u001b[0m\u001b[0mdetectMultiScale\u001b[0m\u001b[0;34m(\u001b[0m\u001b[0mgray\u001b[0m\u001b[0;34m,\u001b[0m\u001b[0;36m1.3\u001b[0m\u001b[0;34m,\u001b[0m\u001b[0;36m5\u001b[0m\u001b[0;34m)\u001b[0m\u001b[0;34m\u001b[0m\u001b[0;34m\u001b[0m\u001b[0m\n",
      "\u001b[0;31merror\u001b[0m: OpenCV(4.1.0) /Users/travis/build/skvark/opencv-python/opencv/modules/imgproc/src/color.cpp:182: error: (-215:Assertion failed) !_src.empty() in function 'cvtColor'\n"
     ]
    }
   ],
   "source": [
    "\n",
    "import cv2 as cv\n",
    "import numpy as np\n",
    "import os\n",
    "from PIL import Image\n",
    "import io\n",
    "# taking camera resourcse from the system\n",
    "cam=cv.VideoCapture(\"http://192.168.43.83:8080/video\")\n",
    "detector=cv.CascadeClassifier(\"haarcascade_frontalface_default.xml\")\n",
    "eyes=cv.CascadeClassifier(\"/Users/jeetu/Desktop/LCO/Day11/haar_files/haarcascade_eye.xml\")\n",
    "i=0\n",
    "while True:\n",
    "    \n",
    "    # Reading the frames\n",
    "    _, frame=cam.read()\n",
    "#     frame=cv.resize(frame,None, fx=0.6,fy=0.6,interpolation=cv.INTER_LINEAR)\n",
    "    frame_rgb=cv.cvtColor(frame,cv.COLOR_BGR2RGB)\n",
    "    gray=cv.cvtColor(frame,cv.COLOR_BGR2GRAY)\n",
    "    faces=detector.detectMultiScale(gray,1.3,5)\n",
    "    eye=eyes.detectMultiScale(gray)\n",
    "    \n",
    "    \n",
    "    for j in range(len(faces)):\n",
    "        x,y,h,w=faces[0]\n",
    "#         x1,y1,h1,w1=eye[0]\n",
    "        cv.rectangle(frame_rgb, (x,y), (x+w,y+h), (255,255,255), 2)\n",
    "#         cv.rectangle(frame_rgb, (x1,y1), (x1+w1,y1+h1), (255,255,255), 1)\n",
    "\n",
    "        if i<10:\n",
    "            crop_image=frame_rgb[y:x,x:x+w]\n",
    "            crop_image=Image.fromarray(crop_image)\n",
    "            crop_image.save(\"/Users/jeetu/Desktop/LCO/Day11/pics/pic_\"+str(i)+\".jpg\")\n",
    "            i+=1\n",
    "        else:\n",
    "            break\n",
    "    cv.imshow(\"webcam\",frame_rgb)\n",
    "    \n",
    "\n",
    "    if cv.waitKey(33) == ord('q'):\n",
    "        cv.destroyAllWindows()\n",
    "        break\n",
    "\n",
    "cam.release()"
   ]
  },
  {
   "cell_type": "code",
   "execution_count": null,
   "metadata": {},
   "outputs": [],
   "source": [
    "\"\"\"Access IP Camera in Python OpenCV\"\"\"\n",
    "\n",
    "import cv2\n",
    "\n",
    "# stream = cv2.VideoCapture('http://kalwar.gupta@gmail.com:jeetu@123@192.168.43.233:8080/test.mjpeg')\n",
    "\n",
    "stream = cv2.VideoCapture('http://192.168.43.233:8080/video')\n",
    "# stream = cv2.VideoCapture('start-a-family.jpg')\n",
    "\n",
    "\n",
    "# Use the next line if your camera has a username and password\n",
    "# stream = cv2.VideoCapture('protocol://username:password@IP:port/1')  \n",
    "\n",
    "while True:\n",
    "\n",
    "    r, f = stream.read()\n",
    "    cv2.imshow('IP Camera stream',f)\n",
    "\n",
    "    if cv2.waitKey(1) & 0xFF == ord('q'):\n",
    "        break\n",
    "\n",
    "cv2.destroyAllWindows()"
   ]
  },
  {
   "cell_type": "code",
   "execution_count": 12,
   "metadata": {},
   "outputs": [
    {
     "ename": "TypeError",
     "evalue": "Expected cv::UMat for argument 'mat'",
     "output_type": "error",
     "traceback": [
      "\u001b[0;31m---------------------------------------------------------------------------\u001b[0m",
      "\u001b[0;31mTypeError\u001b[0m                                 Traceback (most recent call last)",
      "\u001b[0;32m<ipython-input-12-7671f92626c2>\u001b[0m in \u001b[0;36m<module>\u001b[0;34m\u001b[0m\n\u001b[0;32m----> 1\u001b[0;31m \u001b[0mcv2\u001b[0m\u001b[0;34m.\u001b[0m\u001b[0mimshow\u001b[0m\u001b[0;34m(\u001b[0m\u001b[0;34m\"frame\"\u001b[0m\u001b[0;34m,\u001b[0m\u001b[0;34m\"start-a-family.jpg\"\u001b[0m\u001b[0;34m)\u001b[0m\u001b[0;34m\u001b[0m\u001b[0;34m\u001b[0m\u001b[0m\n\u001b[0m",
      "\u001b[0;31mTypeError\u001b[0m: Expected cv::UMat for argument 'mat'"
     ]
    }
   ],
   "source": []
  },
  {
   "cell_type": "code",
   "execution_count": null,
   "metadata": {},
   "outputs": [],
   "source": []
  }
 ],
 "metadata": {
  "kernelspec": {
   "display_name": "Python 3",
   "language": "python",
   "name": "python3"
  },
  "language_info": {
   "codemirror_mode": {
    "name": "ipython",
    "version": 3
   },
   "file_extension": ".py",
   "mimetype": "text/x-python",
   "name": "python",
   "nbconvert_exporter": "python",
   "pygments_lexer": "ipython3",
   "version": "3.7.3"
  }
 },
 "nbformat": 4,
 "nbformat_minor": 2
}
